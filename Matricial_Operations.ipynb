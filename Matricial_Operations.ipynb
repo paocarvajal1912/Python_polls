{
 "cells": [
  {
   "cell_type": "code",
   "execution_count": 2,
   "id": "46302d58",
   "metadata": {},
   "outputs": [],
   "source": [
    "import numpy as np"
   ]
  },
  {
   "cell_type": "markdown",
   "id": "fcb20234",
   "metadata": {},
   "source": [
    "# Matrix operations"
   ]
  },
  {
   "cell_type": "code",
   "execution_count": 6,
   "id": "c9849449",
   "metadata": {},
   "outputs": [
    {
     "data": {
      "text/plain": [
       "array([[ 1,  2,  3],\n",
       "       [ 4,  5,  6],\n",
       "       [-2, -4,  8]])"
      ]
     },
     "execution_count": 6,
     "metadata": {},
     "output_type": "execute_result"
    }
   ],
   "source": [
    "# Create a matrix\n",
    "A = np.array([\n",
    "    [1,  2,  3],\n",
    "    [4,  5,  6],\n",
    "    [-2, -4, 8]\n",
    "])\n",
    "A"
   ]
  },
  {
   "cell_type": "code",
   "execution_count": 7,
   "id": "4732ea4f",
   "metadata": {},
   "outputs": [
    {
     "data": {
      "text/plain": [
       "array([1, 2, 3, 4, 5, 6, 7, 8, 9])"
      ]
     },
     "execution_count": 7,
     "metadata": {},
     "output_type": "execute_result"
    }
   ],
   "source": [
    "# Create a range of numbers\n",
    "B = np.arange(1,10)\n",
    "B"
   ]
  },
  {
   "cell_type": "code",
   "execution_count": 10,
   "id": "4ae40ae4",
   "metadata": {},
   "outputs": [
    {
     "data": {
      "text/plain": [
       "array([[1, 2, 3],\n",
       "       [4, 5, 6],\n",
       "       [7, 8, 9]])"
      ]
     },
     "execution_count": 10,
     "metadata": {},
     "output_type": "execute_result"
    }
   ],
   "source": [
    "# Create a matrix by reshaping a list\n",
    "C = B.reshape(3,3)\n",
    "C"
   ]
  },
  {
   "cell_type": "code",
   "execution_count": 17,
   "id": "d7689611",
   "metadata": {},
   "outputs": [],
   "source": [
    "D = np.arange(0,16,2)\n",
    "E = D.reshape(4,2)\n",
    "E"
   ]
  },
  {
   "cell_type": "code",
   "execution_count": 21,
   "id": "bfe087be",
   "metadata": {},
   "outputs": [
    {
     "data": {
      "text/plain": [
       "array([[ 0,  4,  8, 12],\n",
       "       [ 2,  6, 10, 14]])"
      ]
     },
     "execution_count": 21,
     "metadata": {},
     "output_type": "execute_result"
    }
   ],
   "source": [
    "# Transposing way 1\n",
    "E.T"
   ]
  },
  {
   "cell_type": "code",
   "execution_count": 22,
   "id": "3f05c06c",
   "metadata": {},
   "outputs": [
    {
     "data": {
      "text/plain": [
       "array([[ 0,  4,  8, 12],\n",
       "       [ 2,  6, 10, 14]])"
      ]
     },
     "execution_count": 22,
     "metadata": {},
     "output_type": "execute_result"
    }
   ],
   "source": [
    "# Transposing way 2\n",
    "E.transpose()"
   ]
  },
  {
   "cell_type": "code",
   "execution_count": 25,
   "id": "56e81e43",
   "metadata": {},
   "outputs": [
    {
     "data": {
      "text/plain": [
       "array([[  1,   4,   9],\n",
       "       [ 16,  25,  36],\n",
       "       [-14, -32,  72]])"
      ]
     },
     "execution_count": 25,
     "metadata": {},
     "output_type": "execute_result"
    }
   ],
   "source": [
    "# Kfoneger produxt (item by item)\n",
    "A * C"
   ]
  },
  {
   "cell_type": "markdown",
   "id": "60624238",
   "metadata": {},
   "source": [
    "## Matrix Multiplication"
   ]
  },
  {
   "cell_type": "code",
   "execution_count": 31,
   "id": "51b1c6b7",
   "metadata": {},
   "outputs": [
    {
     "data": {
      "text/plain": [
       "array([[30, 36, 42],\n",
       "       [66, 81, 96],\n",
       "       [38, 40, 42]])"
      ]
     },
     "execution_count": 31,
     "metadata": {},
     "output_type": "execute_result"
    }
   ],
   "source": [
    "# Matrix Multiplication using .dot()\n",
    "F = A.dot(C)\n",
    "F"
   ]
  },
  {
   "cell_type": "code",
   "execution_count": 59,
   "id": "9b995837",
   "metadata": {},
   "outputs": [
    {
     "data": {
      "text/plain": [
       "array([[30, 36, 42],\n",
       "       [66, 81, 96],\n",
       "       [38, 40, 42]])"
      ]
     },
     "execution_count": 59,
     "metadata": {},
     "output_type": "execute_result"
    }
   ],
   "source": [
    "# Using np.matmul\n",
    "np.matmul(A,C)"
   ]
  },
  {
   "cell_type": "markdown",
   "id": "992deadc",
   "metadata": {},
   "source": [
    "## Matrix diagonal"
   ]
  },
  {
   "cell_type": "code",
   "execution_count": 41,
   "id": "9f35c468",
   "metadata": {},
   "outputs": [
    {
     "data": {
      "text/plain": [
       "array([30, 81, 42])"
      ]
     },
     "execution_count": 41,
     "metadata": {},
     "output_type": "execute_result"
    }
   ],
   "source": [
    "# Diagonal de la matrix\n",
    "F.diagonal()"
   ]
  },
  {
   "cell_type": "code",
   "execution_count": 29,
   "id": "5bd5186e",
   "metadata": {},
   "outputs": [
    {
     "data": {
      "text/plain": [
       "153"
      ]
     },
     "execution_count": 29,
     "metadata": {},
     "output_type": "execute_result"
    }
   ],
   "source": [
    "# Matrix trace of the main diagonal (sum of diagonal)\n",
    "F.trace()"
   ]
  },
  {
   "cell_type": "code",
   "execution_count": 42,
   "id": "fc922071",
   "metadata": {},
   "outputs": [
    {
     "data": {
      "text/plain": [
       "153"
      ]
     },
     "execution_count": 42,
     "metadata": {},
     "output_type": "execute_result"
    }
   ],
   "source": [
    "# Alternative way to calculate the trce\n",
    "F.diagonal().sum()"
   ]
  },
  {
   "cell_type": "code",
   "execution_count": 36,
   "id": "04abac78",
   "metadata": {},
   "outputs": [],
   "source": [
    "# Invertir el orden de la matriz, para calcular la traza de la otra diagonal\n",
    "F_reversed=F[::-1]"
   ]
  },
  {
   "cell_type": "code",
   "execution_count": 39,
   "id": "39c57d2c",
   "metadata": {},
   "outputs": [
    {
     "data": {
      "text/plain": [
       "161"
      ]
     },
     "execution_count": 39,
     "metadata": {},
     "output_type": "execute_result"
    }
   ],
   "source": [
    "F_reversed.trace()"
   ]
  },
  {
   "cell_type": "markdown",
   "id": "209e1c27",
   "metadata": {},
   "source": [
    "## Linear Algebra Methods - Eingenvalues"
   ]
  },
  {
   "cell_type": "code",
   "execution_count": 52,
   "id": "4c0617a0",
   "metadata": {},
   "outputs": [
    {
     "data": {
      "text/plain": [
       "array([-0.50973293+0.j        ,  7.25486647+5.45554775j,\n",
       "        7.25486647-5.45554775j])"
      ]
     },
     "execution_count": 52,
     "metadata": {},
     "output_type": "execute_result"
    }
   ],
   "source": [
    "# Eingenvalues\n",
    "np.linalg.eigvals(A)\n"
   ]
  },
  {
   "cell_type": "code",
   "execution_count": 54,
   "id": "eb445fa0",
   "metadata": {},
   "outputs": [
    {
     "data": {
      "text/plain": [
       "array([[-0.83719254+0.j        ,  0.29796807+0.03994244j,\n",
       "         0.29796807-0.03994244j],\n",
       "       [ 0.54373581+0.j        ,  0.71681106+0.j        ,\n",
       "         0.71681106-0.j        ],\n",
       "       [ 0.05882184+0.j        ,  0.07074016+0.62513787j,\n",
       "         0.07074016-0.62513787j]])"
      ]
     },
     "execution_count": 54,
     "metadata": {},
     "output_type": "execute_result"
    }
   ],
   "source": [
    "# both eingenvalues and eigenvectors\n",
    "eigenvalues, eingenvectors = np.linalg.eig(A)\n",
    "eingenvectors"
   ]
  },
  {
   "cell_type": "markdown",
   "id": "4e49e6e3",
   "metadata": {},
   "source": [
    "## Linear Algebra Methods - Inverse"
   ]
  },
  {
   "cell_type": "code",
   "execution_count": 56,
   "id": "5a636c96",
   "metadata": {},
   "outputs": [
    {
     "data": {
      "text/plain": [
       "array([[-1.52380952,  0.66666667,  0.07142857],\n",
       "       [ 1.04761905, -0.33333333, -0.14285714],\n",
       "       [ 0.14285714,  0.        ,  0.07142857]])"
      ]
     },
     "execution_count": 56,
     "metadata": {},
     "output_type": "execute_result"
    }
   ],
   "source": [
    "# Inverse\n",
    "A_inverse = np.linalg.inv(A)\n",
    "A_inverse"
   ]
  },
  {
   "cell_type": "code",
   "execution_count": 58,
   "id": "b8d907f5",
   "metadata": {},
   "outputs": [
    {
     "data": {
      "text/plain": [
       "array([[ 1.00000000e+00,  4.99600361e-16,  7.77156117e-16],\n",
       "       [-1.11022302e-16,  1.00000000e+00, -4.44089210e-16],\n",
       "       [ 0.00000000e+00,  0.00000000e+00,  1.00000000e+00]])"
      ]
     },
     "execution_count": 58,
     "metadata": {},
     "output_type": "execute_result"
    }
   ],
   "source": [
    "# Corroboratio  of inversion\n",
    "A_inverse.dot(A)"
   ]
  },
  {
   "cell_type": "markdown",
   "id": "6de26d4c",
   "metadata": {},
   "source": [
    "## Higher dimention arrays"
   ]
  },
  {
   "cell_type": "code",
   "execution_count": 73,
   "id": "cc1aefe6",
   "metadata": {},
   "outputs": [
    {
     "data": {
      "text/plain": [
       "array([[[ 1,  2,  3,  4,  5,  6,  7,  8,  9, 10],\n",
       "        [11, 12, 13, 14, 15, 16, 17, 18, 19, 20],\n",
       "        [21, 22, 23, 24, 25, 26, 27, 28, 29, 30]],\n",
       "\n",
       "       [[31, 32, 33, 34, 35, 36, 37, 38, 39, 40],\n",
       "        [41, 42, 43, 44, 45, 46, 47, 48, 49, 50],\n",
       "        [51, 52, 53, 54, 55, 56, 57, 58, 59, 60]],\n",
       "\n",
       "       [[61, 62, 63, 64, 65, 66, 67, 68, 69, 70],\n",
       "        [71, 72, 73, 74, 75, 76, 77, 78, 79, 80],\n",
       "        [81, 82, 83, 84, 85, 86, 87, 88, 89, 90]]])"
      ]
     },
     "execution_count": 73,
     "metadata": {},
     "output_type": "execute_result"
    }
   ],
   "source": [
    "my_3D_array = np.arange(1,91)\n",
    "my_3D_array.shape = (3,3,10)\n",
    "my_3D_array\n"
   ]
  },
  {
   "cell_type": "code",
   "execution_count": 74,
   "id": "289ff983",
   "metadata": {},
   "outputs": [
    {
     "data": {
      "text/plain": [
       "array([[ 1,  2,  3,  4,  5,  6,  7,  8,  9, 10],\n",
       "       [11, 12, 13, 14, 15, 16, 17, 18, 19, 20],\n",
       "       [21, 22, 23, 24, 25, 26, 27, 28, 29, 30]])"
      ]
     },
     "execution_count": 74,
     "metadata": {},
     "output_type": "execute_result"
    }
   ],
   "source": [
    "my_3D_array[0]"
   ]
  },
  {
   "cell_type": "code",
   "execution_count": 75,
   "id": "4317c291",
   "metadata": {},
   "outputs": [
    {
     "data": {
      "text/plain": [
       "array([11, 12, 13, 14, 15, 16, 17, 18, 19, 20])"
      ]
     },
     "execution_count": 75,
     "metadata": {},
     "output_type": "execute_result"
    }
   ],
   "source": [
    "my_3D_array[0,1]"
   ]
  },
  {
   "cell_type": "code",
   "execution_count": 76,
   "id": "02ef9b85",
   "metadata": {},
   "outputs": [
    {
     "data": {
      "text/plain": [
       "11"
      ]
     },
     "execution_count": 76,
     "metadata": {},
     "output_type": "execute_result"
    }
   ],
   "source": [
    "my_3D_array[0,1,0]"
   ]
  },
  {
   "cell_type": "code",
   "execution_count": null,
   "id": "e2652f7c",
   "metadata": {},
   "outputs": [],
   "source": []
  }
 ],
 "metadata": {
  "kernelspec": {
   "display_name": "Python 3",
   "language": "python",
   "name": "python3"
  },
  "language_info": {
   "codemirror_mode": {
    "name": "ipython",
    "version": 3
   },
   "file_extension": ".py",
   "mimetype": "text/x-python",
   "name": "python",
   "nbconvert_exporter": "python",
   "pygments_lexer": "ipython3",
   "version": "3.7.10"
  }
 },
 "nbformat": 4,
 "nbformat_minor": 5
}
