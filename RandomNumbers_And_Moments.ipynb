{
 "cells": [
  {
   "cell_type": "code",
   "execution_count": 22,
   "id": "33afcea2",
   "metadata": {},
   "outputs": [
    {
     "data": {
      "text/plain": [
       "'X:[ 8.72535062  8.51304256  8.2918709  11.19473604 11.23913312 10.53700561\\n 11.63950712 11.1079224   9.50289557]'"
      ]
     },
     "metadata": {},
     "output_type": "display_data"
    },
    {
     "data": {
      "text/plain": [
       "'Y:[-2.17359995  1.0355956   1.81423365  0.7867879  -0.53033411  0.79644987\\n  2.62598546  0.71335171  1.82796097]'"
      ]
     },
     "metadata": {},
     "output_type": "display_data"
    }
   ],
   "source": [
    "import numpy.random as npr\n",
    "\n",
    "# `X` has larger values on average, but `Y` has higher variability in values.\n",
    "X = npr.normal(10, 1, size=1000)\n",
    "Y = npr.normal(0, 2, size=1000)\n",
    "\n",
    "display(f'X:{X[0:9]}')\n",
    "display(f'Y:{Y[0:9]}')\n",
    "\n"
   ]
  },
  {
   "cell_type": "code",
   "execution_count": 6,
   "id": "994d916a",
   "metadata": {},
   "outputs": [
    {
     "name": "stdout",
     "output_type": "stream",
     "text": [
      "X moment: 101.73\t Y moment: 3.92\n",
      "X central moment: 0.93\t Y central moment: 3.92\n"
     ]
    }
   ],
   "source": [
    "# So `X` has a larger second raw moment.\n",
    "mx = (X**2).mean()\n",
    "my = (Y**2).mean()\n",
    "print(f'X moment: {mx:.2f}\\t Y moment: {my:.2f}')  # 102.32  3.96\n",
    "\n",
    "# But `Y` has a larger second central moment (variance).\n",
    "mx = X.var()\n",
    "my = Y.var()\n",
    "print(f'X central moment: {mx:.2f}\\t Y central moment: {my:.2f}')  # 1.06    3.96"
   ]
  },
  {
   "cell_type": "code",
   "execution_count": null,
   "id": "dab95893",
   "metadata": {},
   "outputs": [],
   "source": []
  }
 ],
 "metadata": {
  "kernelspec": {
   "display_name": "Python 3",
   "language": "python",
   "name": "python3"
  },
  "language_info": {
   "codemirror_mode": {
    "name": "ipython",
    "version": 3
   },
   "file_extension": ".py",
   "mimetype": "text/x-python",
   "name": "python",
   "nbconvert_exporter": "python",
   "pygments_lexer": "ipython3",
   "version": "3.7.10"
  }
 },
 "nbformat": 4,
 "nbformat_minor": 5
}
